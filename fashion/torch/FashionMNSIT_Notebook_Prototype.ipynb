{
 "cells": [
  {
   "cell_type": "code",
   "execution_count": 1,
   "id": "5cf4633e-c967-4719-bb37-5553318f5581",
   "metadata": {},
   "outputs": [],
   "source": [
    "import torch\n",
    "from torch import nn\n",
    "from torch.utils.data import DataLoader\n",
    "from torchvision import datasets\n",
    "from torchvision.transforms import ToTensor, Lambda, Compose\n",
    "import matplotlib.pyplot as plt"
   ]
  },
  {
   "cell_type": "code",
   "execution_count": 2,
   "id": "50666c1c-2150-4242-9bd3-870289a0a795",
   "metadata": {},
   "outputs": [],
   "source": [
    "# Download training data from open datasets.\n",
    "training_data = datasets.FashionMNIST(\n",
    "    root=\"data\",\n",
    "    train=True,\n",
    "    download=True,\n",
    "    transform=ToTensor(),\n",
    ")\n",
    "\n",
    "# Download test data from open datasets.\n",
    "test_data = datasets.FashionMNIST(\n",
    "    root=\"data\",\n",
    "    train=False,\n",
    "    download=True,\n",
    "    transform=ToTensor(),\n",
    ")"
   ]
  },
  {
   "cell_type": "code",
   "execution_count": 3,
   "id": "a460cd37-1391-44ac-9bff-950cae0309ec",
   "metadata": {},
   "outputs": [
    {
     "name": "stdout",
     "output_type": "stream",
     "text": [
      "Shape of X [N, C, H, W]:  torch.Size([64, 1, 28, 28])\n",
      "Shape of y:  torch.Size([64]) torch.int64\n"
     ]
    }
   ],
   "source": [
    "batch_size = 64\n",
    "\n",
    "# Create data loaders.\n",
    "train_dataloader = DataLoader(training_data, batch_size=batch_size)\n",
    "test_dataloader = DataLoader(test_data, batch_size=batch_size)\n",
    "\n",
    "for X, y in test_dataloader:\n",
    "    print(\"Shape of X [N, C, H, W]: \", X.shape)\n",
    "    print(\"Shape of y: \", y.shape, y.dtype)\n",
    "    break\n"
   ]
  },
  {
   "cell_type": "code",
   "execution_count": 4,
   "id": "323d9429-12f9-4b2b-852d-fa6eb27e3686",
   "metadata": {},
   "outputs": [
    {
     "name": "stdout",
     "output_type": "stream",
     "text": [
      "Using cuda device\n",
      "NeuralNetwork(\n",
      "  (flatten): Flatten(start_dim=1, end_dim=-1)\n",
      "  (linear_relu_stack): Sequential(\n",
      "    (0): Linear(in_features=784, out_features=512, bias=True)\n",
      "    (1): ReLU()\n",
      "    (2): Linear(in_features=512, out_features=512, bias=True)\n",
      "    (3): ReLU()\n",
      "    (4): Linear(in_features=512, out_features=10, bias=True)\n",
      "  )\n",
      ")\n"
     ]
    }
   ],
   "source": [
    "# Get cpu or gpu device for training.\n",
    "device = \"cuda\" if torch.cuda.is_available() else \"cpu\"\n",
    "print(f\"Using {device} device\")\n",
    "\n",
    "# Define model\n",
    "class NeuralNetwork(nn.Module):\n",
    "    def __init__(self):\n",
    "        super(NeuralNetwork, self).__init__()\n",
    "        self.flatten = nn.Flatten()\n",
    "        self.linear_relu_stack = nn.Sequential(\n",
    "            nn.Linear(28*28, 512),\n",
    "            nn.ReLU(),\n",
    "            nn.Linear(512, 512),\n",
    "            nn.ReLU(),\n",
    "            nn.Linear(512, 10)\n",
    "        )\n",
    "\n",
    "    def forward(self, x):\n",
    "        x = self.flatten(x)\n",
    "        logits = self.linear_relu_stack(x)\n",
    "        return logits\n",
    "\n",
    "model = NeuralNetwork().to(device)\n",
    "print(model)"
   ]
  },
  {
   "cell_type": "code",
   "execution_count": 5,
   "id": "113fd4d4-6ab6-4f6a-b63f-787567b9c1f4",
   "metadata": {},
   "outputs": [],
   "source": [
    "loss_fn = nn.CrossEntropyLoss()\n",
    "optimizer = torch.optim.SGD(model.parameters(), lr=1e-3)\n"
   ]
  },
  {
   "cell_type": "code",
   "execution_count": 6,
   "id": "228809ca-5d4a-40da-b99e-ad674701a946",
   "metadata": {},
   "outputs": [],
   "source": [
    "def train(dataloader, model, loss_fn, optimizer):\n",
    "    size = len(dataloader.dataset)\n",
    "    model.train()\n",
    "    for batch, (X, y) in enumerate(dataloader):\n",
    "        X, y = X.to(device), y.to(device)\n",
    "\n",
    "        # Compute prediction error\n",
    "        pred = model(X)\n",
    "        loss = loss_fn(pred, y)\n",
    "\n",
    "        # Backpropagation\n",
    "        optimizer.zero_grad()\n",
    "        loss.backward()\n",
    "        optimizer.step()\n",
    "\n",
    "        if batch % 100 == 0:\n",
    "            loss, current = loss.item(), batch * len(X)\n",
    "            print(f\"loss: {loss:>7f}  [{current:>5d}/{size:>5d}]\")\n"
   ]
  },
  {
   "cell_type": "code",
   "execution_count": 7,
   "id": "60a2f07d-5147-4056-ac76-d2240c506e96",
   "metadata": {},
   "outputs": [],
   "source": [
    "def test(dataloader, model, loss_fn):\n",
    "    size = len(dataloader.dataset)\n",
    "    num_batches = len(dataloader)\n",
    "    model.eval()\n",
    "    test_loss, correct = 0, 0\n",
    "    with torch.no_grad():\n",
    "        for X, y in dataloader:\n",
    "            X, y = X.to(device), y.to(device)\n",
    "            pred = model(X)\n",
    "            test_loss += loss_fn(pred, y).item()\n",
    "            correct += (pred.argmax(1) == y).type(torch.float).sum().item()\n",
    "    test_loss /= num_batches\n",
    "    correct /= size\n",
    "    print(f\"Test Error: \\n Accuracy: {(100*correct):>0.1f}%, Avg loss: {test_loss:>8f} \\n\")\n",
    "\n"
   ]
  },
  {
   "cell_type": "code",
   "execution_count": 8,
   "id": "cfb07f9e-3a2f-43ae-8d2a-e2b8386e224a",
   "metadata": {},
   "outputs": [
    {
     "name": "stdout",
     "output_type": "stream",
     "text": [
      "Epoch 1\n",
      "-------------------------------\n",
      "loss: 2.311956  [    0/60000]\n",
      "loss: 2.300368  [ 6400/60000]\n",
      "loss: 2.283567  [12800/60000]\n",
      "loss: 2.285491  [19200/60000]\n",
      "loss: 2.264588  [25600/60000]\n",
      "loss: 2.238209  [32000/60000]\n",
      "loss: 2.243554  [38400/60000]\n",
      "loss: 2.214899  [44800/60000]\n",
      "loss: 2.228122  [51200/60000]\n",
      "loss: 2.192119  [57600/60000]\n",
      "Test Error: \n",
      " Accuracy: 34.0%, Avg loss: 2.188087 \n",
      "\n",
      "Epoch 2\n",
      "-------------------------------\n",
      "loss: 2.198343  [    0/60000]\n",
      "loss: 2.186543  [ 6400/60000]\n",
      "loss: 2.142766  [12800/60000]\n",
      "loss: 2.165623  [19200/60000]\n",
      "loss: 2.111304  [25600/60000]\n",
      "loss: 2.062070  [32000/60000]\n",
      "loss: 2.090976  [38400/60000]\n",
      "loss: 2.027282  [44800/60000]\n",
      "loss: 2.050717  [51200/60000]\n",
      "loss: 1.973161  [57600/60000]\n",
      "Test Error: \n",
      " Accuracy: 54.6%, Avg loss: 1.974906 \n",
      "\n",
      "Epoch 3\n",
      "-------------------------------\n",
      "loss: 2.003365  [    0/60000]\n",
      "loss: 1.973787  [ 6400/60000]\n",
      "loss: 1.878649  [12800/60000]\n",
      "loss: 1.921245  [19200/60000]\n",
      "loss: 1.805428  [25600/60000]\n",
      "loss: 1.751979  [32000/60000]\n",
      "loss: 1.775488  [38400/60000]\n",
      "loss: 1.681616  [44800/60000]\n",
      "loss: 1.710718  [51200/60000]\n",
      "loss: 1.595067  [57600/60000]\n",
      "Test Error: \n",
      " Accuracy: 61.8%, Avg loss: 1.616244 \n",
      "\n",
      "Epoch 4\n",
      "-------------------------------\n",
      "loss: 1.672294  [    0/60000]\n",
      "loss: 1.629694  [ 6400/60000]\n",
      "loss: 1.494773  [12800/60000]\n",
      "loss: 1.563466  [19200/60000]\n",
      "loss: 1.431285  [25600/60000]\n",
      "loss: 1.417353  [32000/60000]\n",
      "loss: 1.426154  [38400/60000]\n",
      "loss: 1.353305  [44800/60000]\n",
      "loss: 1.391366  [51200/60000]\n",
      "loss: 1.282014  [57600/60000]\n",
      "Test Error: \n",
      " Accuracy: 64.1%, Avg loss: 1.312687 \n",
      "\n",
      "Epoch 5\n",
      "-------------------------------\n",
      "loss: 1.385395  [    0/60000]\n",
      "loss: 1.358645  [ 6400/60000]\n",
      "loss: 1.202840  [12800/60000]\n",
      "loss: 1.305039  [19200/60000]\n",
      "loss: 1.177695  [25600/60000]\n",
      "loss: 1.192794  [32000/60000]\n",
      "loss: 1.206879  [38400/60000]\n",
      "loss: 1.149510  [44800/60000]\n",
      "loss: 1.193264  [51200/60000]\n",
      "loss: 1.104771  [57600/60000]\n",
      "Test Error: \n",
      " Accuracy: 65.0%, Avg loss: 1.125963 \n",
      "\n",
      "Done!\n"
     ]
    }
   ],
   "source": [
    "# %%\n",
    "epochs = 5\n",
    "for t in range(epochs):\n",
    "    print(f\"Epoch {t+1}\\n-------------------------------\")\n",
    "    train(train_dataloader, model, loss_fn, optimizer)\n",
    "    test(test_dataloader, model, loss_fn)\n",
    "print(\"Done!\")"
   ]
  }
 ],
 "metadata": {
  "kernelspec": {
   "display_name": "Python 3 (ipykernel)",
   "language": "python",
   "name": "python3"
  },
  "language_info": {
   "codemirror_mode": {
    "name": "ipython",
    "version": 3
   },
   "file_extension": ".py",
   "mimetype": "text/x-python",
   "name": "python",
   "nbconvert_exporter": "python",
   "pygments_lexer": "ipython3",
   "version": "3.8.10"
  }
 },
 "nbformat": 4,
 "nbformat_minor": 5
}
